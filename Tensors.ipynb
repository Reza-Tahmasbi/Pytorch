{
  "nbformat": 4,
  "nbformat_minor": 0,
  "metadata": {
    "colab": {
      "provenance": [],
      "gpuType": "T4"
    },
    "kernelspec": {
      "name": "python3",
      "display_name": "Python 3"
    },
    "language_info": {
      "name": "python"
    },
    "accelerator": "GPU"
  },
  "cells": [
    {
      "cell_type": "markdown",
      "source": [
        "## Chapter 2-Tensors"
      ],
      "metadata": {
        "id": "n9xtTvlMVj63"
      }
    },
    {
      "cell_type": "markdown",
      "source": [
        "Simple CPU Example"
      ],
      "metadata": {
        "id": "Oax3iW5qW68U"
      }
    },
    {
      "cell_type": "code",
      "execution_count": 1,
      "metadata": {
        "colab": {
          "base_uri": "https://localhost:8080/"
        },
        "id": "MXz-f2FIVfVz",
        "outputId": "4759a269-cae0-4ce5-d4cf-a1baf52cd5fb"
      },
      "outputs": [
        {
          "output_type": "stream",
          "name": "stdout",
          "text": [
            "tensor([[ 8, 10, 12],\n",
            "        [14, 16, 18]])\n",
            "torch.Size([2, 3])\n"
          ]
        }
      ],
      "source": [
        "import torch\n",
        "\n",
        "x = torch.tensor([[1,2,3],[4,5,6]])\n",
        "y = torch.tensor([[7,8,9],[10,11,12]])\n",
        "z = x + y\n",
        "print(z)\n",
        "print(z.size())"
      ]
    },
    {
      "cell_type": "markdown",
      "source": [
        "Simple GPU Example"
      ],
      "metadata": {
        "id": "jBLyCpAhXC5n"
      }
    },
    {
      "cell_type": "code",
      "source": [
        "device = \"cuda\" if torch.cuda.is_available() else \"cpu\"\n",
        "x = torch.tensor([[1,2,3],[4,5,6]], device = device)\n",
        "y = torch.tensor([[7,8,9],[10,11,12]], device = device)\n",
        "z = x + y\n",
        "print(z)\n",
        "\n",
        "print(z.size())\n",
        "print(z.device)"
      ],
      "metadata": {
        "colab": {
          "base_uri": "https://localhost:8080/"
        },
        "id": "jg39m8P8V1ji",
        "outputId": "b8a60f24-37dd-40a2-dbc7-5127fc40cacd"
      },
      "execution_count": 2,
      "outputs": [
        {
          "output_type": "stream",
          "name": "stdout",
          "text": [
            "tensor([[ 8, 10, 12],\n",
            "        [14, 16, 18]], device='cuda:0')\n",
            "torch.Size([2, 3])\n",
            "cuda:0\n"
          ]
        }
      ]
    },
    {
      "cell_type": "markdown",
      "source": [
        "Moving Tensors between CPU & GPU"
      ],
      "metadata": {
        "id": "bbgnJFPJXHaW"
      }
    },
    {
      "cell_type": "code",
      "source": [
        "device = \"cuda\" if torch.cuda.is_available() else \"cpu\"\n",
        "x.to(device)\n",
        "y.to(device)\n",
        "z = x + y\n",
        "z.to(\"cpu\")"
      ],
      "metadata": {
        "colab": {
          "base_uri": "https://localhost:8080/"
        },
        "id": "-KRDdWjeWj6u",
        "outputId": "0f0060c2-55b5-4ac0-fa9b-83b5670e5190"
      },
      "execution_count": 3,
      "outputs": [
        {
          "output_type": "execute_result",
          "data": {
            "text/plain": [
              "tensor([[ 8, 10, 12],\n",
              "        [14, 16, 18]])"
            ]
          },
          "metadata": {},
          "execution_count": 3
        }
      ]
    },
    {
      "cell_type": "markdown",
      "source": [
        "Creating Tensors"
      ],
      "metadata": {
        "id": "lXR0LhEqXjy_"
      }
    },
    {
      "cell_type": "code",
      "source": [
        "import numpy\n",
        "# Created from pre-existing arrays\n",
        "w = torch.tensor([1,2,3])\n",
        "w = torch.tensor((1,2,3))\n",
        "w = torch.tensor(numpy.array(numpy.array([1,2,3])))\n",
        "\n",
        "# Initialized by size\n",
        "w = torch.empty(100,1200)\n",
        "w = torch.zeros(100,200)\n",
        "w= torch.ones(100,200)"
      ],
      "metadata": {
        "id": "T3uYUzTUXTjk"
      },
      "execution_count": 4,
      "outputs": []
    },
    {
      "cell_type": "markdown",
      "source": [
        "1. from a list\n",
        "2. from a tuple\n",
        "3. from a numpy array\n",
        "4. uninitialized, elements values\n",
        "are not predictable\n",
        "6. all elements initialized with 0.0\n",
        "7. all elements initialized with 1.0"
      ],
      "metadata": {
        "id": "mflKvAV8YffI"
      }
    },
    {
      "cell_type": "code",
      "source": [
        "w = torch.rand(100,200) # 1\n",
        "w = torch.randn(100,200) # 2\n",
        "w = torch.randint(5,10,(100,200)) # 3\n",
        "\n",
        "w = torch.empty((100,200), dtype=torch.float64,\n",
        "                device=\"cuda\")\n",
        "\n",
        "x = torch.empty_like(w)"
      ],
      "metadata": {
        "id": "m8ipgomOYMfX"
      },
      "execution_count": 5,
      "outputs": []
    },
    {
      "cell_type": "markdown",
      "source": [
        "1. Creates a 100 x 200 tensor with elements from a uniform distribution on the interval [0, 1)\n",
        "2. elements are random numbers from a normal distribution with mean 0 and variance 1\n",
        "3. elements are random integers between 5 and 10"
      ],
      "metadata": {
        "id": "9X0QAIFkZcwR"
      }
    },
    {
      "cell_type": "markdown",
      "source": [
        "Data Types"
      ],
      "metadata": {
        "id": "1yYmMgJVZr5n"
      }
    },
    {
      "cell_type": "code",
      "source": [
        "# Specify data type at creation using dtype\n",
        "w = torch.tensor([1,2,3], dtype = torch.float32)\n",
        "\n",
        "# Use casting method to cast to a new data type\n",
        "w.int()     # w remains a float32 after cast\n",
        "w = w.int()     # w changes to int32 after cast\n",
        "\n",
        "# Use to() method to cast to a new type\n",
        "w = w.to(torch.float64)\n",
        "w = w.to(dtype = torch.float64)\n",
        "\n",
        "# Python automatically converts data types during operations\n",
        "x = torch.tensor([1,2,3], dtype = torch.int32)\n",
        "y = torch.tensor([1,2,3], dtype = torch.float32)\n",
        "z = x + y\n",
        "print(z.dtype)"
      ],
      "metadata": {
        "colab": {
          "base_uri": "https://localhost:8080/"
        },
        "id": "BCukw66QZbKo",
        "outputId": "98a2bac7-98ff-4a20-f42e-f9ba7ad80384"
      },
      "execution_count": 6,
      "outputs": [
        {
          "output_type": "stream",
          "name": "stdout",
          "text": [
            "torch.float32\n"
          ]
        }
      ]
    },
    {
      "cell_type": "markdown",
      "source": [
        "Tensor Operations"
      ],
      "metadata": {
        "id": "MMy8tGmWa1o0"
      }
    },
    {
      "cell_type": "code",
      "source": [
        "x = torch.tensor([[1,2],[3,4],[5,6],[7,8]])\n",
        "print(x)\n",
        "\n",
        "# Indexing, returns a tensor\n",
        "print(x[1,1])\n",
        "# Indexing, returns value as Python number\n",
        "print(x[1,1,].item())"
      ],
      "metadata": {
        "colab": {
          "base_uri": "https://localhost:8080/"
        },
        "id": "l25_UwZtY2UH",
        "outputId": "f59d54f5-d1b4-4c04-81df-b98f353c1430"
      },
      "execution_count": 9,
      "outputs": [
        {
          "output_type": "stream",
          "name": "stdout",
          "text": [
            "tensor([[1, 2],\n",
            "        [3, 4],\n",
            "        [5, 6],\n",
            "        [7, 8]])\n",
            "tensor(4)\n",
            "4\n"
          ]
        }
      ]
    },
    {
      "cell_type": "code",
      "source": [
        "# Slicing\n",
        "print(x[:2,1])\n",
        "\n",
        "# Boolean indexing\n",
        "# Only keep elements less than 5\n",
        "print(x[x<5])"
      ],
      "metadata": {
        "colab": {
          "base_uri": "https://localhost:8080/"
        },
        "id": "OFzuUtEEbC58",
        "outputId": "b46293e0-9d5a-4faf-f60c-ff2a1460aa6c"
      },
      "execution_count": 10,
      "outputs": [
        {
          "output_type": "stream",
          "name": "stdout",
          "text": [
            "tensor([2, 4])\n",
            "tensor([1, 2, 3, 4])\n"
          ]
        }
      ]
    },
    {
      "cell_type": "code",
      "source": [
        "print(x.t())\n",
        "\n",
        "print(x.view(2,4))"
      ],
      "metadata": {
        "colab": {
          "base_uri": "https://localhost:8080/"
        },
        "id": "KJVK5pdzbYQn",
        "outputId": "55eb09fd-50bd-4ad8-bc0d-9f79bb5f94b1"
      },
      "execution_count": 11,
      "outputs": [
        {
          "output_type": "stream",
          "name": "stdout",
          "text": [
            "tensor([[1, 3, 5, 7],\n",
            "        [2, 4, 6, 8]])\n",
            "tensor([[1, 2, 3, 4],\n",
            "        [5, 6, 7, 8]])\n"
          ]
        }
      ]
    },
    {
      "cell_type": "code",
      "source": [
        "# Combining tensors\n",
        "y = torch.stack((x,x))\n",
        "print(y)\n",
        "\n",
        "# Splitting tensors\n",
        "a,b = x.unbind(dim =1)\n",
        "print(a,b)"
      ],
      "metadata": {
        "colab": {
          "base_uri": "https://localhost:8080/"
        },
        "id": "FhDpxK-hb61N",
        "outputId": "b11ad8c3-f0ae-4061-8b53-82665960a655"
      },
      "execution_count": 12,
      "outputs": [
        {
          "output_type": "stream",
          "name": "stdout",
          "text": [
            "tensor([[[1, 2],\n",
            "         [3, 4],\n",
            "         [5, 6],\n",
            "         [7, 8]],\n",
            "\n",
            "        [[1, 2],\n",
            "         [3, 4],\n",
            "         [5, 6],\n",
            "         [7, 8]]])\n",
            "tensor([1, 3, 5, 7]) tensor([2, 4, 6, 8])\n"
          ]
        }
      ]
    },
    {
      "cell_type": "markdown",
      "source": [
        "Automatic Differentiation (Autograd)"
      ],
      "metadata": {
        "id": "g251DYYqcPMT"
      }
    },
    {
      "cell_type": "code",
      "source": [
        "x = torch.tensor([[1,2,3],[4,5,6]], dtype = torch.float, requires_grad =True)\n",
        "print(x)\n",
        "f = x.pow(2).sum()\n",
        "print(f)\n",
        "f.backward()\n",
        "print(x.grad)"
      ],
      "metadata": {
        "colab": {
          "base_uri": "https://localhost:8080/"
        },
        "id": "Q1Y1beaWcLV9",
        "outputId": "3fccaa62-2c44-4240-cbcf-93aafe2b7a4f"
      },
      "execution_count": 14,
      "outputs": [
        {
          "output_type": "stream",
          "name": "stdout",
          "text": [
            "tensor([[1., 2., 3.],\n",
            "        [4., 5., 6.]], requires_grad=True)\n",
            "tensor(91., grad_fn=<SumBackward0>)\n",
            "tensor([[ 2.,  4.,  6.],\n",
            "        [ 8., 10., 12.]])\n"
          ]
        }
      ]
    }
  ]
}
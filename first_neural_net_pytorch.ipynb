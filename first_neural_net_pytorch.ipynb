{
  "nbformat": 4,
  "nbformat_minor": 0,
  "metadata": {
    "colab": {
      "provenance": []
    },
    "kernelspec": {
      "name": "python3",
      "display_name": "Python 3"
    },
    "language_info": {
      "name": "python"
    }
  },
  "cells": [
    {
      "cell_type": "code",
      "execution_count": 19,
      "metadata": {
        "id": "xhag5ICUWOpm"
      },
      "outputs": [],
      "source": [
        "import torch\n",
        "import  torch.nn as nn\n",
        "import torchvision.datasets as datasets\n",
        "import torchvision.transforms as transforms\n",
        "from torch.utils.data import DataLoader"
      ]
    },
    {
      "cell_type": "code",
      "source": [
        "# transform = transforms.Compose([\n",
        "#     transforms.ToTensor(),\n",
        "#     transforms.Normalize((0.1307,), (0.3081,))\n",
        "# ])"
      ],
      "metadata": {
        "id": "bsk2J0vIbhPr"
      },
      "execution_count": 13,
      "outputs": []
    },
    {
      "cell_type": "code",
      "source": [
        "train_dataset = datasets.MNIST(root='./data',\n",
        "                              train = True,\n",
        "                              transform = transforms.ToTensor(),\n",
        "                              download = True)\n",
        "\n",
        "test_dataset = datasets.MNIST(root='./data',\n",
        "                               train = False,\n",
        "                               transform = transforms.ToTensor())"
      ],
      "metadata": {
        "id": "xjfMksLMWf7w"
      },
      "execution_count": 20,
      "outputs": []
    },
    {
      "cell_type": "code",
      "source": [
        "train_loader = DataLoader(dataset = train_dataset,\n",
        "                          batch_size = 64,\n",
        "                          shuffle = True)\n",
        "\n",
        "test_loader = DataLoader(dataset = test_dataset,\n",
        "                          batch_size = 64,\n",
        "                          shuffle = True)"
      ],
      "metadata": {
        "id": "q87CeryhXI3-"
      },
      "execution_count": 21,
      "outputs": []
    },
    {
      "cell_type": "code",
      "source": [
        "class NeuralNet(nn.Module):\n",
        "    def __init__(self):\n",
        "        super(NeuralNet, self).__init__()\n",
        "        self.l1 = nn.Linear(784, 500)\n",
        "        self.relu = nn.ReLU()\n",
        "        self.l2 = nn.Linear(500, 10)\n",
        "\n",
        "    def forward(self, x):\n",
        "        out = self.l1(x)\n",
        "        out = self.relu(out)\n",
        "        out = self.l2(out)\n",
        "        return out\n",
        "\n",
        "model = NeuralNet()\n",
        "# loss and opimizer\n",
        "criterion = nn.CrossEntropyLoss()\n",
        "optimizer = torch.optim.Adam(model.parameters(), lr=0.01)\n",
        "\n",
        "num_epochs = 3\n",
        "n_total_steps = len(train_loader)\n",
        "for epoch in range(num_epochs):\n",
        "    for index, (images, labels) in enumerate(train_loader):\n",
        "        images = images.reshape(-1,28*28)\n",
        "\n",
        "        # Forward pass\n",
        "        outputs = model(images)\n",
        "        loss = criterion(outputs, labels)\n",
        "\n",
        "        optimizer.zero_grad()\n",
        "        loss.backward()\n",
        "        optimizer.step()\n",
        "\n",
        "        if (index+1)% 100 == 0:\n",
        "            print(f'Epoch [{epoch+1}/{num_epochs}]')"
      ],
      "metadata": {
        "colab": {
          "base_uri": "https://localhost:8080/"
        },
        "id": "OU3sKLHDXXmj",
        "outputId": "a46ac1b7-f2fb-493b-ce9a-371f2c0d5e70"
      },
      "execution_count": 22,
      "outputs": [
        {
          "output_type": "stream",
          "name": "stdout",
          "text": [
            "Epoch [1/3]\n",
            "Epoch [1/3]\n",
            "Epoch [1/3]\n",
            "Epoch [1/3]\n",
            "Epoch [1/3]\n",
            "Epoch [1/3]\n",
            "Epoch [1/3]\n",
            "Epoch [1/3]\n",
            "Epoch [1/3]\n",
            "Epoch [2/3]\n",
            "Epoch [2/3]\n",
            "Epoch [2/3]\n",
            "Epoch [2/3]\n",
            "Epoch [2/3]\n",
            "Epoch [2/3]\n",
            "Epoch [2/3]\n",
            "Epoch [2/3]\n",
            "Epoch [2/3]\n",
            "Epoch [3/3]\n",
            "Epoch [3/3]\n",
            "Epoch [3/3]\n",
            "Epoch [3/3]\n",
            "Epoch [3/3]\n",
            "Epoch [3/3]\n",
            "Epoch [3/3]\n",
            "Epoch [3/3]\n",
            "Epoch [3/3]\n"
          ]
        }
      ]
    },
    {
      "cell_type": "code",
      "source": [
        "import cv2\n",
        "image_path = \"/content/data/MNIST/Untitled.png\"\n",
        "\n",
        "\n",
        "image = cv2.imread(image_path, cv2.IMREAD_GRAYSCALE)\n",
        "image = image.astype('float32')\n",
        "image = cv2.resize(image,(28,28))\n",
        "plt.imshow(image, cmap = \"gray\")\n",
        "image = torch.tensor(image)\n",
        "image = image.unsqueeze(0)\n",
        "image = image.reshape(-1, 28*28)  # Flatten the image\n",
        "model.eval()\n",
        "with torch.no_grad():\n",
        "    outputs = model(image)\n",
        "    sth, predicted = torch.max(outputs.data, 1)"
      ],
      "metadata": {
        "colab": {
          "base_uri": "https://localhost:8080/",
          "height": 430
        },
        "id": "OhinYdttZWjm",
        "outputId": "0b5d10d5-bac4-4ed6-f4a4-e496c5c6023e"
      },
      "execution_count": 49,
      "outputs": [
        {
          "output_type": "display_data",
          "data": {
            "text/plain": [
              "<Figure size 640x480 with 1 Axes>"
            ],
            "image/png": "[encoded data removed]"
          },
          "metadata": {}
        }
      ]
    },
    {
      "cell_type": "code",
      "source": [
        "import matplotlib.pyplot as plt"
      ],
      "metadata": {
        "id": "o5n4anufgiG-"
      },
      "execution_count": 47,
      "outputs": []
    },
    {
      "cell_type": "code",
      "source": [
        "predicted"
      ],
      "metadata": {
        "colab": {
          "base_uri": "https://localhost:8080/"
        },
        "id": "Da6ki-EWd-Lo",
        "outputId": "96cb1e45-53e2-4c3f-ae07-cb5e75533f4f"
      },
      "execution_count": 48,
      "outputs": [
        {
          "output_type": "execute_result",
          "data": {
            "text/plain": [
              "tensor([3])"
            ]
          },
          "metadata": {},
          "execution_count": 48
        }
      ]
    },
    {
      "cell_type": "code",
      "source": [
        "sth"
      ],
      "metadata": {
        "colab": {
          "base_uri": "https://localhost:8080/"
        },
        "id": "6dgxkXoDgeKK",
        "outputId": "c6f94cc1-3dc2-4999-f9c5-48f1c105b763"
      },
      "execution_count": 50,
      "outputs": [
        {
          "output_type": "execute_result",
          "data": {
            "text/plain": [
              "tensor([1554.9183])"
            ]
          },
          "metadata": {},
          "execution_count": 50
        }
      ]
    },
    {
      "cell_type": "code",
      "source": [],
      "metadata": {
        "id": "O12WdZDNg1Af"
      },
      "execution_count": null,
      "outputs": []
    }
  ]
}